{
 "cells": [
  {
   "cell_type": "markdown",
   "source": [
    "# Imports"
   ],
   "metadata": {}
  },
  {
   "cell_type": "code",
   "execution_count": 1,
   "source": [
    "import numpy as np\r\n",
    "from sklearn import datasets, metrics\r\n",
    "from sklearn.preprocessing import StandardScaler\r\n",
    "import pandas as pd\r\n",
    "import matplotlib.pyplot as plt"
   ],
   "outputs": [],
   "metadata": {}
  },
  {
   "cell_type": "markdown",
   "source": [
    "# Loading Dataset"
   ],
   "metadata": {}
  },
  {
   "cell_type": "code",
   "execution_count": 2,
   "source": [
    "# Load The Dataset\r\n",
    "x, y = datasets.load_boston(return_X_y=True)\r\n",
    "x.shape\r\n",
    "df = pd.DataFrame(x)\r\n",
    "df.head()\r\n",
    "\r\n",
    "df = pd.DataFrame(y)\r\n",
    "df.head()"
   ],
   "outputs": [
    {
     "output_type": "execute_result",
     "data": {
      "text/html": [
       "<div>\n",
       "<style scoped>\n",
       "    .dataframe tbody tr th:only-of-type {\n",
       "        vertical-align: middle;\n",
       "    }\n",
       "\n",
       "    .dataframe tbody tr th {\n",
       "        vertical-align: top;\n",
       "    }\n",
       "\n",
       "    .dataframe thead th {\n",
       "        text-align: right;\n",
       "    }\n",
       "</style>\n",
       "<table border=\"1\" class=\"dataframe\">\n",
       "  <thead>\n",
       "    <tr style=\"text-align: right;\">\n",
       "      <th></th>\n",
       "      <th>0</th>\n",
       "    </tr>\n",
       "  </thead>\n",
       "  <tbody>\n",
       "    <tr>\n",
       "      <th>0</th>\n",
       "      <td>24.0</td>\n",
       "    </tr>\n",
       "    <tr>\n",
       "      <th>1</th>\n",
       "      <td>21.6</td>\n",
       "    </tr>\n",
       "    <tr>\n",
       "      <th>2</th>\n",
       "      <td>34.7</td>\n",
       "    </tr>\n",
       "    <tr>\n",
       "      <th>3</th>\n",
       "      <td>33.4</td>\n",
       "    </tr>\n",
       "    <tr>\n",
       "      <th>4</th>\n",
       "      <td>36.2</td>\n",
       "    </tr>\n",
       "  </tbody>\n",
       "</table>\n",
       "</div>"
      ],
      "text/plain": [
       "      0\n",
       "0  24.0\n",
       "1  21.6\n",
       "2  34.7\n",
       "3  33.4\n",
       "4  36.2"
      ]
     },
     "metadata": {},
     "execution_count": 2
    }
   ],
   "metadata": {}
  },
  {
   "cell_type": "markdown",
   "source": [
    "# Train Data"
   ],
   "metadata": {}
  },
  {
   "cell_type": "code",
   "execution_count": 3,
   "source": [
    "#Train data\r\n",
    "x_train_temp=x[0:400,:]\r\n",
    "x_train=np.zeros((x_train_temp.shape[0],x_train_temp.shape[1]+1))\r\n",
    "x_train[:,0]=np.ones((x_train_temp.shape[0]))\r\n",
    "x_train[:,1:]=x_train_temp\r\n",
    "\"Type of X_train:\", type(x_train), \"Shape of X_train:\", x_train.shape\r\n",
    "y_train=y[0:400]"
   ],
   "outputs": [],
   "metadata": {}
  },
  {
   "cell_type": "markdown",
   "source": [
    "# Test Data"
   ],
   "metadata": {}
  },
  {
   "cell_type": "code",
   "execution_count": 4,
   "source": [
    "#Test Data\r\n",
    "x_test_temp=x[400:,:]\r\n",
    "x_test=np.zeros((x_test_temp.shape[0],x_test_temp.shape[1]+1))\r\n",
    "x_test[:,0]=np.ones((x_test_temp.shape[0]))\r\n",
    "x_test[:,1:]=x_test_temp\r\n",
    "\"Type of X_train:\", type(x_test), \"Shape of X_train:\", x_test.shape\r\n",
    "y_test=y[400:]"
   ],
   "outputs": [],
   "metadata": {}
  },
  {
   "cell_type": "markdown",
   "source": [
    "# Scaling"
   ],
   "metadata": {}
  },
  {
   "cell_type": "code",
   "execution_count": 5,
   "source": [
    "# Scaling the data\r\n",
    "scaler=StandardScaler()\r\n",
    "scaler.fit(x_train[:,1:])\r\n",
    "x_train[:,1:]=scaler.transform(x_train[:,1:])\r\n",
    "x_test[:,1:]=scaler.transform(x_test[:,1:])"
   ],
   "outputs": [],
   "metadata": {}
  },
  {
   "cell_type": "markdown",
   "source": [
    "# Initialization"
   ],
   "metadata": {}
  },
  {
   "cell_type": "code",
   "execution_count": 6,
   "source": [
    "mae_list = []; mse_list = []; lamda_list = [0,10,1000,10000]; alpha = 0.01; lamda_dict = {}; cost_list = []"
   ],
   "outputs": [],
   "metadata": {}
  },
  {
   "cell_type": "markdown",
   "source": [
    "# Gradient Descent"
   ],
   "metadata": {}
  },
  {
   "cell_type": "code",
   "execution_count": 7,
   "source": [
    "for lamda in lamda_list:\r\n",
    "    theta = np.random.uniform(0,0, size=x_train.shape[1]) # random theta\r\n",
    "    iterations = 1000\r\n",
    "\r\n",
    "    m = x_train.shape[0] #row\r\n",
    "    n = x_train.shape[1] #column\r\n",
    "    \r\n",
    "    costs = []\r\n",
    "    theta_arr = [] # arr of theta1\r\n",
    "\r\n",
    "    update = np.zeros(x_train.shape[1])\r\n",
    "\r\n",
    "    for i in range(iterations):\r\n",
    "        y_pred = np.dot(x_train, theta) # 0o*xo + 01*x1.....0n*xn \r\n",
    "\r\n",
    "        error = y_pred - y_train # h(x) - y\r\n",
    "\r\n",
    "        cost = np.sum(error**2)/(2*m)  # (1/2*m)*(h(x)-y)**2\r\n",
    "        costs.append(cost)\r\n",
    "\r\n",
    "        for j in range(n):\r\n",
    "            update[j] = np.sum(error*x_train.T[j]) # (h(xi) - y)*xi \r\n",
    "        theta[0] = theta[0] - (1/m)*(alpha)*update[0]\r\n",
    "        theta[1:] = theta[1:]*(1-(alpha*lamda/m)) - (1/m)*alpha*update[1:]\r\n",
    "\r\n",
    "    # Calculate predictions as Xtest(dot)theta\r\n",
    "    predictions =np.dot(x_test, theta)\r\n",
    "    # Calculate MAE and MSE\r\n",
    "    mae = metrics.mean_absolute_error(y_true = y_test, y_pred = predictions)\r\n",
    "    mse = metrics.mean_squared_error(y_true = y_test, y_pred = predictions)\r\n",
    "    \r\n",
    "    print(\"lamda : \",lamda)\r\n",
    "    print(\"cost : \",cost)\r\n",
    "    print(\"Mean Absolute Error : \", mae)\r\n",
    "    print(\"Mean Squared Error : \", mse,end=\"\\n\\n\")\r\n",
    "\r\n",
    "    thetaarr = pd.DataFrame(theta)\r\n",
    "    \r\n",
    "    cost_list.append(costs)\r\n",
    "    lamda_dict[lamda] = [mse,cost]"
   ],
   "outputs": [
    {
     "output_type": "stream",
     "name": "stdout",
     "text": [
      "lamda :  0\n",
      "cost :  11.259639485809208\n",
      "Mean Absolute Error :  4.797108879704638\n",
      "Mean Squared Error :  33.19151296557728\n",
      "\n",
      "lamda :  10\n",
      "cost :  11.318911495567333\n",
      "Mean Absolute Error :  4.67984560647567\n",
      "Mean Squared Error :  31.667359286602274\n",
      "\n",
      "lamda :  1000\n",
      "cost :  21.780577726659548\n",
      "Mean Absolute Error :  4.337370145619891\n",
      "Mean Squared Error :  28.03600106140369\n",
      "\n",
      "lamda :  10000\n",
      "cost :  36.74991894961047\n",
      "Mean Absolute Error :  7.555648312430681\n",
      "Mean Squared Error :  76.22945713670182\n",
      "\n"
     ]
    }
   ],
   "metadata": {
    "scrolled": false
   }
  },
  {
   "cell_type": "markdown",
   "source": [
    "# Dict of MAE, Cost for All Lambda"
   ],
   "metadata": {}
  },
  {
   "cell_type": "code",
   "execution_count": 8,
   "source": [
    "lamda_dict"
   ],
   "outputs": [
    {
     "output_type": "execute_result",
     "data": {
      "text/plain": [
       "{0: [33.19151296557728, 11.259639485809208],\n",
       " 10: [31.667359286602274, 11.318911495567333],\n",
       " 1000: [28.03600106140369, 21.780577726659548],\n",
       " 10000: [76.22945713670182, 36.74991894961047]}"
      ]
     },
     "metadata": {},
     "execution_count": 8
    }
   ],
   "metadata": {}
  },
  {
   "cell_type": "markdown",
   "source": [
    "# Cost VS Iterations for All Lambda"
   ],
   "metadata": {}
  },
  {
   "cell_type": "code",
   "execution_count": 9,
   "source": [
    "iterations_arr = np.linspace(1,iterations,iterations)\r\n",
    "iterations_arr = np.array(iterations_arr)\r\n",
    "for costs in cost_list:\r\n",
    "    plt.plot(iterations_arr,costs)\r\n",
    "plt.ylabel(\"cost\")\r\n",
    "plt.xlabel(\"Iterations\")\r\n",
    "plt.legend(['lamda : 0','lamda : 10','lamda : 1000','lamda : 10000')\r\n",
    "plt.show()"
   ],
   "outputs": [
    {
     "output_type": "display_data",
     "data": {
      "image/png": "[encoded data removed]",
      "text/plain": [
       "<Figure size 432x288 with 1 Axes>"
      ]
     },
     "metadata": {
      "needs_background": "light"
     }
    }
   ],
   "metadata": {}
  }
 ],
 "metadata": {
  "interpreter": {
   "hash": "df642eef7b43fe7a4a517bca7a97690968a466268416ac555ac71584a4a4c66c"
  },
  "kernelspec": {
   "display_name": "Python 3",
   "language": "python",
   "name": "python3"
  },
  "language_info": {
   "codemirror_mode": {
    "name": "ipython",
    "version": 3
   },
   "file_extension": ".py",
   "mimetype": "text/x-python",
   "name": "python",
   "nbconvert_exporter": "python",
   "pygments_lexer": "ipython3",
   "version": "3.8.8"
  }
 },
 "nbformat": 4,
 "nbformat_minor": 2
}