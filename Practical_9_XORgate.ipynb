{
  "nbformat": 4,
  "nbformat_minor": 0,
  "metadata": {
    "kernelspec": {
      "display_name": "Python 3",
      "language": "python",
      "name": "python3"
    },
    "language_info": {
      "codemirror_mode": {
        "name": "ipython",
        "version": 3
      },
      "file_extension": ".py",
      "mimetype": "text/x-python",
      "name": "python",
      "nbconvert_exporter": "python",
      "pygments_lexer": "ipython3",
      "version": "3.8.5"
    },
    "colab": {
      "name": "19BCE260_prac9.ipynb",
      "provenance": []
    }
  },
  "cells": [
    {
      "cell_type": "markdown",
      "metadata": {
        "id": "z7puiU78PHnP"
      },
      "source": [
        "# ML Practical 9 - XOR Gate Backpropogation\n",
        "\n",
        "# Name: Shah Smit Kiran\n",
        "\n",
        "# Roll No: 19BCE260"
      ]
    },
    {
      "cell_type": "markdown",
      "metadata": {
        "id": "JFcl-CpHQX9s"
      },
      "source": [
        "# Importing libraries"
      ]
    },
    {
      "cell_type": "code",
      "metadata": {
        "id": "u50LVmGdPHnU"
      },
      "source": [
        "import numpy as np\n",
        "import matplotlib.pyplot as plt\n",
        "import random"
      ],
      "execution_count": 13,
      "outputs": []
    },
    {
      "cell_type": "markdown",
      "metadata": {
        "id": "Wni9xSYmQav4"
      },
      "source": [
        "#Defining Function for Initializing Parameters, Forward Propogation ,Backward Propogation and Updating Parameters"
      ]
    },
    {
      "cell_type": "code",
      "metadata": {
        "id": "HwFohDRTPHnW"
      },
      "source": [
        "def initialize_parameters(in_featurs, total_middle_neurons, out_features):\n",
        "    W1 = np.random.randn(total_middle_neurons, in_features)\n",
        "    W2 = np.random.randn(out_features, total_middle_neurons)\n",
        "    b1 = np.zeros((total_middle_neurons,1))\n",
        "    b2 = np.zeros((out_features, 1))\n",
        "    \n",
        "    parameters = {\"W1\":W1,\"b1\":b1,\"W2\":W2,\"b2\":b2}\n",
        "    return(parameters)\n",
        "\n",
        "def forward_propagation(X, Y, parameters):\n",
        "    m = X.shape[1]\n",
        "    W1 = parameters[\"W1\"]\n",
        "    W2 = parameters[\"W2\"]\n",
        "    b1 = parameters[\"b1\"]\n",
        "    b2 = parameters[\"b2\"]\n",
        "    \n",
        "    net1 = np.dot(W1, X) + b1\n",
        "    A1 = 1/ (1 + np.exp(-net1))\n",
        "    \n",
        "    net2 = np.dot(W2, A1) + b2\n",
        "    A2 = 1/ (1 + np.exp(-net2))\n",
        "    \n",
        "    cache = (net1, A1, W1, b1, net2, A2, W2, b2)\n",
        "    logprobs = np.multiply(np.log(A2), Y) + np.multiply(np.log(1-A2),(1-Y))\n",
        "    cost = -np.sum(logprobs)/m\n",
        "    return(cost,cache,A2)\n",
        "\n",
        "def backward_propagation(X, Y, cache):\n",
        "    m = X.shape[1]\n",
        "    (net1, A1, W1, b1, net2, A2, W2, b2) = cache\n",
        "    \n",
        "    ddnet2 = A2 - Y\n",
        "    dnet2 = np.multiply(ddnet2, A2 *(1-A2))\n",
        "    dW2 = np.dot(dnet2, A1.T)/m\n",
        "    db2 = np.sum(dnet2,axis = 1, keepdims = True)\n",
        "    \n",
        "    dA1 = np.dot(W2.T, dnet2)\n",
        "    dnet1 = np.multiply(dA1, A1 * (1-A1))\n",
        "    dW1 = np.dot(dnet1, X.T)/ m\n",
        "    db1 = np.sum(dnet1, axis = 1, keepdims = True) / m\n",
        "    \n",
        "    gradients = {\"dZ2\":dnet2, \"dW2\": dW2, \"db2\":db2, \"dZ1\":dnet1, \"dW1\":dW1, \"db1\":db1}\n",
        "    return(gradients)\n",
        "\n",
        "def updating_parameters(parameters, gradients, learning_rate):\n",
        "    parameters[\"W1\"] = parameters[\"W1\"] - learning_rate * gradients[\"dW1\"]\n",
        "    parameters[\"W2\"] = parameters[\"W2\"] - learning_rate * gradients[\"dW2\"]\n",
        "    parameters[\"b1\"] = parameters[\"b1\"] - learning_rate * gradients[\"db1\"]\n",
        "    parameters[\"b2\"] = parameters[\"b2\"] - learning_rate * gradients[\"db2\"]\n",
        "    return(parameters)"
      ],
      "execution_count": 14,
      "outputs": []
    },
    {
      "cell_type": "markdown",
      "metadata": {
        "id": "NV-aGuDtRASx"
      },
      "source": [
        "#Define Model Parameters"
      ]
    },
    {
      "cell_type": "code",
      "metadata": {
        "id": "Lvcy8yT3PHnX"
      },
      "source": [
        "X = np.array([[0,0,1,1],[0,1,0,1]])\n",
        "Y = np.array([[0,1,1,0]])\n",
        "\n",
        "neurons_inmiddle_layers = 2\n",
        "in_features = X.shape[0]\n",
        "out_features = Y.shape[0]\n",
        "parameters = initialize_parameters(in_features, neurons_inmiddle_layers, out_features)\n"
      ],
      "execution_count": 15,
      "outputs": []
    },
    {
      "cell_type": "code",
      "metadata": {
        "id": "kbgbGL8ePHnX"
      },
      "source": [
        "epoch = 100000\n",
        "learning_rate = 0.01\n",
        "losses = np.zeros((epoch,1))\n",
        "\n",
        "for i in range(epoch):\n",
        "    losses[i,0], cache, A2 = forward_propagation(X,Y,parameters)\n",
        "    gradients = backward_propagation(X,Y,cache)\n",
        "    parameters = updating_parameters(parameters,gradients,learning_rate)"
      ],
      "execution_count": 16,
      "outputs": []
    },
    {
      "cell_type": "code",
      "metadata": {
        "colab": {
          "base_uri": "https://localhost:8080/",
          "height": 279
        },
        "id": "PiyJ7lUuPHnY",
        "outputId": "abf15521-522b-4402-e530-35e43236e254"
      },
      "source": [
        "plt.figure()\n",
        "plt.plot(losses)\n",
        "plt.xlabel(\"EPOCHES\")\n",
        "plt.ylabel(\"Loss Value\")\n",
        "plt.show()"
      ],
      "execution_count": 17,
      "outputs": [
        {
          "output_type": "display_data",
          "data": {
            "image/png": "[encoded data removed]",
            "text/plain": [
              "<Figure size 432x288 with 1 Axes>"
            ]
          },
          "metadata": {
            "needs_background": "light"
          }
        }
      ]
    },
    {
      "cell_type": "markdown",
      "metadata": {
        "id": "TaYSdznVQ1Ow"
      },
      "source": [
        "#Testing"
      ]
    },
    {
      "cell_type": "code",
      "metadata": {
        "colab": {
          "base_uri": "https://localhost:8080/"
        },
        "id": "EfUtBpyiPHnZ",
        "outputId": "6a780e75-30e5-4249-c8d1-a2c1bb6dc90f"
      },
      "source": [
        "X = np.array([[1,1,0,0],[0,1,0,1]])\n",
        "cost, temp, A2 = forward_propagation(X,Y,parameters)\n",
        "prediction = (A2>0.5)*1.0\n",
        "\n",
        "print(prediction)"
      ],
      "execution_count": 18,
      "outputs": [
        {
          "output_type": "stream",
          "name": "stdout",
          "text": [
            "[[1. 1. 0. 1.]]\n"
          ]
        }
      ]
    },
    {
      "cell_type": "code",
      "metadata": {
        "id": "wOtqJOo6PHnZ"
      },
      "source": [
        ""
      ],
      "execution_count": null,
      "outputs": []
    }
  ]
}