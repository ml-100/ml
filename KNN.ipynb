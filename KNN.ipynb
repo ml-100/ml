{
  "nbformat": 4,
  "nbformat_minor": 0,
  "metadata": {
    "interpreter": {
      "hash": "9f9164c787429c8d82b7ca2f2f996da817ef8d4b4bdf32b6827fff584f50a0af"
    },
    "kernelspec": {
      "display_name": "Python 3.8.5 64-bit ('base': conda)",
      "name": "python3"
    },
    "language_info": {
      "codemirror_mode": {
        "name": "ipython",
        "version": 3
      },
      "file_extension": ".py",
      "mimetype": "text/x-python",
      "name": "python",
      "nbconvert_exporter": "python",
      "pygments_lexer": "ipython3",
      "version": "3.8.5"
    },
    "orig_nbformat": 4,
    "colab": {
      "name": "19BCE260_Practica5_KNN.ipynb",
      "provenance": [],
      "collapsed_sections": []
    }
  },
  "cells": [
    {
      "cell_type": "markdown",
      "metadata": {
        "id": "K6jmDG_r3tIM"
      },
      "source": [
        "# Imports"
      ]
    },
    {
      "cell_type": "code",
      "metadata": {
        "id": "-I9uUAYo3tId"
      },
      "source": [
        "import numpy as np\n",
        "from sklearn import neighbors,datasets,metrics\n"
      ],
      "execution_count": null,
      "outputs": []
    },
    {
      "cell_type": "markdown",
      "metadata": {
        "id": "2NK6ZS0s3tIg"
      },
      "source": [
        "# Loading data set\n"
      ]
    },
    {
      "cell_type": "code",
      "metadata": {
        "id": "hDQZp_K53tIh"
      },
      "source": [
        "X,y = datasets.load_iris(return_X_y=True)\n",
        "X_train = X[range(0,150,2),:]\n",
        "y_train = y[range(0,150,2)]\n",
        "\n",
        "X_test = X[range(1,150,2),:]\n",
        "y_test = y[range(1,150,2)]\n",
        "\n"
      ],
      "execution_count": null,
      "outputs": []
    },
    {
      "cell_type": "markdown",
      "metadata": {
        "id": "DnmP5pQ-3tIi"
      },
      "source": [
        "# Neighbors and weight ( parameters )"
      ]
    },
    {
      "cell_type": "code",
      "metadata": {
        "id": "YhnXpOy-3tIi"
      },
      "source": [
        "n_neighbors = 1"
      ],
      "execution_count": null,
      "outputs": []
    },
    {
      "cell_type": "code",
      "metadata": {
        "id": "0xisbbbm3tIj"
      },
      "source": [
        "weights = 'uniform'"
      ],
      "execution_count": null,
      "outputs": []
    },
    {
      "cell_type": "markdown",
      "metadata": {
        "id": "Kv1vOdov3tIk"
      },
      "source": [
        "# KNN classifier"
      ]
    },
    {
      "cell_type": "code",
      "metadata": {
        "id": "JWRFFQnf3tIl",
        "outputId": "d44a5b44-f982-492a-e744-05a15d41dbf9"
      },
      "source": [
        "clf = neighbors.KNeighborsClassifier(n_neighbors,weights)\n"
      ],
      "execution_count": null,
      "outputs": [
        {
          "name": "stderr",
          "output_type": "stream",
          "text": [
            "C:\\Users\\aman shaikh\\anaconda3\\lib\\site-packages\\sklearn\\utils\\validation.py:67: FutureWarning: Pass weights=uniform as keyword args. From version 0.25 passing these as positional arguments will result in an error\n",
            "  warnings.warn(\"Pass {} as keyword args. From version 0.25 \"\n"
          ]
        }
      ]
    },
    {
      "cell_type": "markdown",
      "metadata": {
        "id": "g1BGoz6v3tIo"
      },
      "source": [
        "# Training set\n"
      ]
    },
    {
      "cell_type": "code",
      "metadata": {
        "id": "1pp3WeR-3tIp"
      },
      "source": [
        "clf.fit(X_train,y_train)\n",
        "prediction = clf.predict(X_test)"
      ],
      "execution_count": null,
      "outputs": []
    },
    {
      "cell_type": "markdown",
      "metadata": {
        "id": "7txmvmNp3tIq"
      },
      "source": [
        "# Prediction"
      ]
    },
    {
      "cell_type": "code",
      "metadata": {
        "id": "3gqgkLkD3tIq",
        "outputId": "f169ca3d-865c-468c-884a-f5dc8705f8eb"
      },
      "source": [
        "print(\"----------------------------------\")\n",
        "print(\"Predictions\")\n",
        "print(prediction)\n",
        "print(\"----------------------------------\")"
      ],
      "execution_count": null,
      "outputs": [
        {
          "name": "stdout",
          "output_type": "stream",
          "text": [
            "----------------------------------\n",
            "Predictions\n",
            "[0 0 0 0 0 0 0 0 0 0 0 0 0 0 0 0 0 0 0 0 0 0 0 0 0 1 1 1 1 1 1 1 1 1 1 1 1\n",
            " 1 1 1 1 2 1 1 1 1 1 1 1 1 2 2 2 2 2 2 2 2 2 1 2 2 2 2 2 2 1 2 2 2 2 2 2 2\n",
            " 2]\n",
            "----------------------------------\n"
          ]
        }
      ]
    },
    {
      "cell_type": "markdown",
      "metadata": {
        "id": "kDKbEjuZ3tIr"
      },
      "source": [
        "# Accuracy"
      ]
    },
    {
      "cell_type": "code",
      "metadata": {
        "id": "gJBcCHlx3tIs",
        "outputId": "2b9825c2-e24b-4839-c87c-c76f2a678cc1"
      },
      "source": [
        "print(\"Accuracy= \",metrics.accuracy_score(y_test,prediction))"
      ],
      "execution_count": null,
      "outputs": [
        {
          "name": "stdout",
          "output_type": "stream",
          "text": [
            "Accuracy=  0.96\n"
          ]
        }
      ]
    },
    {
      "cell_type": "markdown",
      "metadata": {
        "id": "T60siKIW3tIs"
      },
      "source": [
        "# Classification report"
      ]
    },
    {
      "cell_type": "code",
      "metadata": {
        "id": "hyD224wq3tIt",
        "outputId": "58467e83-82c3-4f56-8b3b-0c4ad167740b"
      },
      "source": [
        "print(metrics.classification_report(y_test,prediction))\n",
        "print(metrics.confusion_matrix(y_test,prediction))"
      ],
      "execution_count": null,
      "outputs": [
        {
          "name": "stdout",
          "output_type": "stream",
          "text": [
            "              precision    recall  f1-score   support\n",
            "\n",
            "           0       1.00      1.00      1.00        25\n",
            "           1       0.92      0.96      0.94        25\n",
            "           2       0.96      0.92      0.94        25\n",
            "\n",
            "    accuracy                           0.96        75\n",
            "   macro avg       0.96      0.96      0.96        75\n",
            "weighted avg       0.96      0.96      0.96        75\n",
            "\n",
            "[[25  0  0]\n",
            " [ 0 24  1]\n",
            " [ 0  2 23]]\n"
          ]
        }
      ]
    },
    {
      "cell_type": "markdown",
      "metadata": {
        "id": "GugdTXDB3tIt"
      },
      "source": [
        "# For finding best parameters"
      ]
    },
    {
      "cell_type": "code",
      "metadata": {
        "id": "Gx6AaCdw3tIu"
      },
      "source": [
        "clf = neighbors.KNeighborsClassifier()\n"
      ],
      "execution_count": null,
      "outputs": []
    },
    {
      "cell_type": "code",
      "metadata": {
        "id": "MQiYKceP3tIu"
      },
      "source": [
        "param_grid = [{'n_neighbors':[1,5,7,10,15,20,30,40,50],'weights':['uniform','distance']}]"
      ],
      "execution_count": null,
      "outputs": []
    },
    {
      "cell_type": "code",
      "metadata": {
        "id": "UDQ9pvMb3tIv"
      },
      "source": [
        "from sklearn.model_selection import GridSearchCV"
      ],
      "execution_count": null,
      "outputs": []
    },
    {
      "cell_type": "code",
      "metadata": {
        "id": "h8RyhFrZ3tIw"
      },
      "source": [
        "clf_gs = GridSearchCV(clf,param_grid,cv=5)\n"
      ],
      "execution_count": null,
      "outputs": []
    },
    {
      "cell_type": "code",
      "metadata": {
        "id": "9g5OvCFq3tIw",
        "outputId": "c7671290-0cc6-4747-9026-45a4e1e75c1e"
      },
      "source": [
        "clf_gs.fit(X_train,y_train)"
      ],
      "execution_count": null,
      "outputs": [
        {
          "data": {
            "text/plain": [
              "GridSearchCV(cv=5, estimator=KNeighborsClassifier(),\n",
              "             param_grid=[{'n_neighbors': [1, 5, 7, 10, 15, 20, 30, 40, 50],\n",
              "                          'weights': ['uniform', 'distance']}])"
            ]
          },
          "execution_count": 14,
          "metadata": {},
          "output_type": "execute_result"
        }
      ]
    },
    {
      "cell_type": "code",
      "metadata": {
        "id": "N16YYwM-3tIw",
        "outputId": "0be821fc-cf69-4077-ed0f-4e153bafb4a0"
      },
      "source": [
        "print(clf_gs.best_params_)"
      ],
      "execution_count": null,
      "outputs": [
        {
          "name": "stdout",
          "output_type": "stream",
          "text": [
            "{'n_neighbors': 5, 'weights': 'uniform'}\n"
          ]
        }
      ]
    },
    {
      "cell_type": "code",
      "metadata": {
        "id": "jU7Oo90S3tIx",
        "outputId": "52182339-198b-4caf-a75a-d0330a8634ac"
      },
      "source": [
        "prediction=clf_gs.predict(X_test)\n",
        "print(\"----------------------------------\")\n",
        "print(\"predictions\")\n",
        "print(prediction)\n",
        "print(\"----------------------------------\")"
      ],
      "execution_count": null,
      "outputs": [
        {
          "name": "stdout",
          "output_type": "stream",
          "text": [
            "----------------------------------\n",
            "predictions\n",
            "[0 0 0 0 0 0 0 0 0 0 0 0 0 0 0 0 0 0 0 0 0 0 0 0 0 1 1 1 1 1 1 1 1 1 1 1 1\n",
            " 1 1 1 1 2 1 1 1 1 1 1 1 1 2 2 2 2 2 2 2 2 2 2 2 2 2 2 2 2 2 2 2 2 2 2 2 2\n",
            " 2]\n",
            "----------------------------------\n"
          ]
        }
      ]
    },
    {
      "cell_type": "code",
      "metadata": {
        "id": "uwP1_DJw3tIx",
        "outputId": "b9cd2f2d-148d-4fcc-aedd-1aeb5bc7a39d"
      },
      "source": [
        "print(\"Accuracy \",metrics.accuracy_score(y_test,prediction))\n",
        "print(metrics.classification_report(y_test,prediction))\n",
        "print(metrics.confusion_matrix(y_test,prediction))"
      ],
      "execution_count": null,
      "outputs": [
        {
          "name": "stdout",
          "output_type": "stream",
          "text": [
            "Accuracy  0.9866666666666667\n",
            "              precision    recall  f1-score   support\n",
            "\n",
            "           0       1.00      1.00      1.00        25\n",
            "           1       1.00      0.96      0.98        25\n",
            "           2       0.96      1.00      0.98        25\n",
            "\n",
            "    accuracy                           0.99        75\n",
            "   macro avg       0.99      0.99      0.99        75\n",
            "weighted avg       0.99      0.99      0.99        75\n",
            "\n",
            "[[25  0  0]\n",
            " [ 0 24  1]\n",
            " [ 0  0 25]]\n"
          ]
        }
      ]
    }
  ]
}