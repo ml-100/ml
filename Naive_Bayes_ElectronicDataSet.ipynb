{
  "nbformat": 4,
  "nbformat_minor": 0,
  "metadata": {
    "colab": {
      "name": "19BCE260_Naive Bayes_ElectronicDataSet.ipynb",
      "provenance": [],
      "collapsed_sections": []
    },
    "kernelspec": {
      "name": "python3",
      "display_name": "Python 3"
    },
    "language_info": {
      "name": "python"
    }
  },
  "cells": [
    {
      "cell_type": "code",
      "metadata": {
        "id": "w6PT7v92Ygca"
      },
      "source": [
        "import pandas as pd\n",
        "Rid = [*range(1,15,1)]\n",
        "age = ['Youth','Youth','Middle-Age','Senior','Senior','Senior','Middle-Age','Youth','Youth','Senior','Youth','Middle-Age','Middle-Age','Senior']\n",
        "income = ['High','High','High','Medium','Low','Low','Low','Medium','Low','Medium','Medium','Medium','High','Medium']\n",
        "student = ['No','No','No','No','Yes','Yes','Yes','No','Yes','Yes','Yes','No','Yes','No']\n",
        "credit_rating = ['Fair','Excellent','Fair','Fair','Fair','Excellent','Excellent','Fair','Fair','Fair','Excellent','Excellent','Fair','Excellent']\n",
        "Buys_computer = ['No','No','Yes','Yes','Yes','No','Yes','No','Yes','Yes','Yes','Yes','Yes','No']\n",
        "\n",
        "dict = {'RID':Rid,'Age':age,'Income':income,'Student':student,'Credit_Rating':credit_rating,'Class':Buys_computer}\n",
        "df = pd.DataFrame ( dict )\n",
        "df.to_csv('Electronic.csv',index=False)"
      ],
      "execution_count": null,
      "outputs": []
    },
    {
      "cell_type": "code",
      "metadata": {
        "id": "MBNYGuQ4cTO3"
      },
      "source": [
        "import pandas as pd\n",
        "Dataset = pd.read_csv('Electronic.csv')\n",
        "df=pd.DataFrame(Dataset)\n",
        "object_df=df.select_dtypes(include='object')\n",
        "df.loc[:,object_df.columns]=object_df.apply(lambda x : pd.factorize(x)[0])\n",
        "Dataset=df\n",
        "df.to_csv('Electronic_catagorical.csv',index=False)"
      ],
      "execution_count": null,
      "outputs": []
    },
    {
      "cell_type": "markdown",
      "metadata": {
        "id": "MF1Xe4ej8CFh"
      },
      "source": [
        "**Gaussian Naive Bayes fot the Electronic Data** **Set** **bold text**"
      ]
    },
    {
      "cell_type": "code",
      "metadata": {
        "colab": {
          "base_uri": "https://localhost:8080/"
        },
        "id": "z4vBSChSeOrM",
        "outputId": "79b16fbf-15b1-4c1c-9835-64478b5f9abd"
      },
      "source": [
        "import numpy\n",
        "from sklearn import datasets, metrics\n",
        "from sklearn.naive_bayes import GaussianNB\n",
        "import pandas as pd\n",
        "Dataset=pd.read_csv('Electronic_catagorical.csv')\n",
        "\n",
        "Train_x=Dataset[[\"RID\",\"Age\",\"Income\",\"Student\",\"Credit_Rating\"]]\n",
        "Train_y=Dataset[\"Class\"]\n",
        "X_Train=Train_x.head(10)\n",
        "Y_Train=Train_y.head(10)\n",
        "\n",
        "Test_x=Dataset[[\"RID\",\"Age\",\"Income\",\"Student\",\"Credit_Rating\"]]\n",
        "Test_y=Dataset[\"Class\"]\n",
        "X_Test=Test_x.tail(4)\n",
        "Y_Test=Test_y.tail(4)\n",
        "\n",
        "clf=GaussianNB()\n",
        "\n",
        "clf.fit(X_Train, Y_Train)\n",
        "\n",
        "prediction = clf.predict(X_Test)\n",
        "\n",
        "print(\"----------Predictions------------\")\n",
        "print(prediction)\n",
        "print(\"---------------------------------\")\n",
        "\n",
        "print(\"Accuracy:\",metrics.accuracy_score(Y_Test, prediction,normalize=True))\n",
        "print(metrics.classification_report(Y_Test, prediction))\n",
        "print(metrics.confusion_matrix(Y_Test, prediction))"
      ],
      "execution_count": null,
      "outputs": [
        {
          "output_type": "stream",
          "name": "stdout",
          "text": [
            "----------Predictions------------\n",
            "[0 0 1 1]\n",
            "---------------------------------\n",
            "Accuracy: 0.25\n",
            "              precision    recall  f1-score   support\n",
            "\n",
            "           0       0.00      0.00      0.00         1\n",
            "           1       0.50      0.33      0.40         3\n",
            "\n",
            "    accuracy                           0.25         4\n",
            "   macro avg       0.25      0.17      0.20         4\n",
            "weighted avg       0.38      0.25      0.30         4\n",
            "\n",
            "[[0 1]\n",
            " [2 1]]\n"
          ]
        }
      ]
    },
    {
      "cell_type": "markdown",
      "metadata": {
        "id": "BCSWoF5b7nCV"
      },
      "source": [
        "**Multinimial Navie Bayes for the Electonic Data Set**"
      ]
    },
    {
      "cell_type": "code",
      "metadata": {
        "colab": {
          "base_uri": "https://localhost:8080/"
        },
        "id": "OhpJk9lWbAov",
        "outputId": "56cbefa4-e6b2-4325-ccd1-229c33f0a29c"
      },
      "source": [
        "import numpy\n",
        "from sklearn import datasets, metrics\n",
        "from sklearn.naive_bayes import MultinomialNB\n",
        "import pandas as pd\n",
        "Dataset=pd.read_csv('Electronic_catagorical.csv')\n",
        "\n",
        "Train_x=Dataset[[\"RID\",\"Age\",\"Income\",\"Student\",\"Credit_Rating\"]]\n",
        "Train_y=Dataset[\"Class\"]\n",
        "X_Train=Train_x.head(10)\n",
        "Y_Train=Train_y.head(10)\n",
        "\n",
        "Test_x=Dataset[[\"RID\",\"Age\",\"Income\",\"Student\",\"Credit_Rating\"]]\n",
        "Test_y=Dataset[\"Class\"]\n",
        "X_Test=Test_x.tail(4)\n",
        "Y_Test=Test_y.tail(4)\n",
        "\n",
        "clf=MultinomialNB()\n",
        "\n",
        "clf.fit(X_Train, Y_Train)\n",
        "\n",
        "prediction = clf.predict(X_Test)\n",
        "\n",
        "print(\"----------Predictions------------\")\n",
        "print(prediction)\n",
        "print(\"---------------------------------\")\n",
        "\n",
        "print(\"Accuracy:\",metrics.accuracy_score(Y_Test, prediction,normalize=True))\n",
        "print(metrics.classification_report(Y_Test, prediction))\n",
        "print(metrics.confusion_matrix(Y_Test, prediction))"
      ],
      "execution_count": null,
      "outputs": [
        {
          "output_type": "stream",
          "name": "stdout",
          "text": [
            "----------Predictions------------\n",
            "[0 0 1 1]\n",
            "---------------------------------\n",
            "Accuracy: 0.25\n",
            "              precision    recall  f1-score   support\n",
            "\n",
            "           0       0.00      0.00      0.00         1\n",
            "           1       0.50      0.33      0.40         3\n",
            "\n",
            "    accuracy                           0.25         4\n",
            "   macro avg       0.25      0.17      0.20         4\n",
            "weighted avg       0.38      0.25      0.30         4\n",
            "\n",
            "[[0 1]\n",
            " [2 1]]\n"
          ]
        }
      ]
    },
    {
      "cell_type": "markdown",
      "metadata": {
        "id": "jV0CCoHd8mJo"
      },
      "source": [
        "**Bernoulli Naive Bayes For the Electronic Data Set**"
      ]
    },
    {
      "cell_type": "code",
      "metadata": {
        "colab": {
          "base_uri": "https://localhost:8080/"
        },
        "id": "CJ8pjMyobXh0",
        "outputId": "a5f2782d-3782-4a90-dafd-a0a9ef0b80ba"
      },
      "source": [
        "import numpy\n",
        "from sklearn import datasets, metrics\n",
        "from sklearn.naive_bayes import BernoulliNB\n",
        "import pandas as pd\n",
        "Dataset=pd.read_csv('Electronic_catagorical.csv')\n",
        "\n",
        "Train_x=Dataset[[\"RID\",\"Age\",\"Income\",\"Student\",\"Credit_Rating\"]]\n",
        "Train_y=Dataset[\"Class\"]\n",
        "X_Train=Train_x.head(10)\n",
        "Y_Train=Train_y.head(10)\n",
        "\n",
        "Test_x=Dataset[[\"RID\",\"Age\",\"Income\",\"Student\",\"Credit_Rating\"]]\n",
        "Test_y=Dataset[\"Class\"]\n",
        "X_Test=Test_x.tail(4)\n",
        "Y_Test=Test_y.tail(4)\n",
        "\n",
        "clf=BernoulliNB()\n",
        "\n",
        "clf.fit(X_Train, Y_Train)\n",
        "\n",
        "prediction = clf.predict(X_Test)\n",
        "\n",
        "print(\"----------Predictions------------\")\n",
        "print(prediction)\n",
        "print(\"---------------------------------\")\n",
        "\n",
        "print(\"Accuracy:\",metrics.accuracy_score(Y_Test, prediction,normalize=True))\n",
        "print(metrics.classification_report(Y_Test, prediction))\n",
        "print(metrics.confusion_matrix(Y_Test, prediction))"
      ],
      "execution_count": null,
      "outputs": [
        {
          "output_type": "stream",
          "name": "stdout",
          "text": [
            "----------Predictions------------\n",
            "[0 1 1 1]\n",
            "---------------------------------\n",
            "Accuracy: 0.5\n",
            "              precision    recall  f1-score   support\n",
            "\n",
            "           0       0.00      0.00      0.00         1\n",
            "           1       0.67      0.67      0.67         3\n",
            "\n",
            "    accuracy                           0.50         4\n",
            "   macro avg       0.33      0.33      0.33         4\n",
            "weighted avg       0.50      0.50      0.50         4\n",
            "\n",
            "[[0 1]\n",
            " [1 2]]\n"
          ]
        }
      ]
    }
  ]
}