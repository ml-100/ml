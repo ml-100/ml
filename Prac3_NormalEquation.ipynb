{
  "nbformat": 4,
  "nbformat_minor": 0,
  "metadata": {
    "colab": {
      "name": "mutlilinear_regressionusingnormalequation method.ipynb",
      "provenance": []
    },
    "kernelspec": {
      "name": "python3",
      "display_name": "Python 3"
    },
    "language_info": {
      "name": "python"
    }
  },
  "cells": [
    {
      "cell_type": "code",
      "metadata": {
        "colab": {
          "base_uri": "https://localhost:8080/"
        },
        "id": "TgstAi6euxNK",
        "outputId": "7a349eff-7850-44ef-e3f1-097e258d0ab1"
      },
      "source": [
        "import numpy as np\n",
        "from sklearn import datasets,metrics\n",
        "import sklearn\n",
        "import matplotlib.pyplot as plt\n",
        "from numpy.linalg import inv, pinv, LinAlgError\n",
        "\n",
        "x,y=datasets.load_boston(return_X_y=True)\n",
        "\n",
        "x_train_temp1=x[0:400,:]\n",
        "x_train=np.zeros((x_train_temp1.shape[0],x_train_temp1.shape[1]+1))\n",
        "x_train[:,0]=np.ones((x_train_temp1.shape[0]))\n",
        "x_train[:,1:]=x_train_temp1\n",
        "y_train=y[0:400]\n",
        "\n",
        "x_test_temp1=x[400:506,: ]\n",
        "x_test=np.zeros((x_test_temp1.shape[0],x_test_temp1.shape[1]+1))\n",
        "x_test[:,0]=np.ones((x_test_temp1.shape[0]))\n",
        "x_test[:,1:]=x_test_temp1\n",
        "y_test=y[400:506]\n",
        "\n",
        "theta=np.zeros(x_train.shape[1])\n",
        "\n",
        "try:\n",
        "  XTXi=inv(np.dot(x_train.T,x_train))\n",
        "except LinAlgError:\n",
        "  XTXi=pinv(np.dot(x_train.T,x_train))\n",
        "\n",
        "XTy=np.dot(x_train.T,y_train)\n",
        "\n",
        "theta=np.dot(XTXi,XTy)\n",
        "\n",
        "print(\"Thetas:\", theta)\n",
        "print(\"Thetas Shape:\", theta.shape)\n",
        "\n",
        "predictions=np.dot(theta,x_test.T)\n",
        "\n",
        "print(\"MAE: \",metrics.mean_absolute_error(y_true=y_test,y_pred=predictions))\n",
        "print(\"MSE: \",metrics.mean_squared_error(y_true=y_test,y_pred=predictions))"
      ],
      "execution_count": 2,
      "outputs": [
        {
          "output_type": "stream",
          "name": "stdout",
          "text": [
            "Thetas: [ 2.86725996e+01 -1.91246374e-01  4.42289967e-02  5.52207977e-02\n",
            "  1.71631351e+00 -1.49957220e+01  4.88773025e+00  2.60921031e-03\n",
            " -1.29480799e+00  4.84787214e-01 -1.54006673e-02 -8.08795026e-01\n",
            " -1.29230427e-03 -5.17953791e-01]\n",
            "Thetas Shape: (14,)\n",
            "MAE:  5.142232214464314\n",
            "MSE:  37.89377859958516\n"
          ]
        }
      ]
    }
  ]
}