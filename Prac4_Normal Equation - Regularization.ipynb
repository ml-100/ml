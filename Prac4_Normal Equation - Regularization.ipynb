{
 "cells": [
  {
   "cell_type": "code",
   "execution_count": 1,
   "source": [
    "from IPython.core.interactiveshell import InteractiveShell\r\n",
    "InteractiveShell.ast_node_interactivity = \"all\""
   ],
   "outputs": [],
   "metadata": {}
  },
  {
   "cell_type": "markdown",
   "source": [
    "# Imports"
   ],
   "metadata": {}
  },
  {
   "cell_type": "code",
   "execution_count": 1,
   "source": [
    "import numpy as np\r\n",
    "from sklearn import datasets, metrics\r\n",
    "from sklearn.preprocessing import StandardScaler\r\n",
    "import pandas as pd\r\n",
    "import matplotlib.pyplot as plt\r\n",
    "from numpy.linalg import inv,pinv,LinAlgError"
   ],
   "outputs": [],
   "metadata": {}
  },
  {
   "cell_type": "markdown",
   "source": [
    "# Loading Dataset"
   ],
   "metadata": {}
  },
  {
   "cell_type": "code",
   "execution_count": 2,
   "source": [
    "# Load The Dataset\r\n",
    "x, y = datasets.load_boston(return_X_y=True)\r\n",
    "x.shape\r\n",
    "df = pd.DataFrame(x)\r\n",
    "df.head()\r\n",
    "\r\n",
    "df = pd.DataFrame(y)\r\n",
    "df.head()"
   ],
   "outputs": [
    {
     "output_type": "execute_result",
     "data": {
      "text/html": [
       "<div>\n",
       "<style scoped>\n",
       "    .dataframe tbody tr th:only-of-type {\n",
       "        vertical-align: middle;\n",
       "    }\n",
       "\n",
       "    .dataframe tbody tr th {\n",
       "        vertical-align: top;\n",
       "    }\n",
       "\n",
       "    .dataframe thead th {\n",
       "        text-align: right;\n",
       "    }\n",
       "</style>\n",
       "<table border=\"1\" class=\"dataframe\">\n",
       "  <thead>\n",
       "    <tr style=\"text-align: right;\">\n",
       "      <th></th>\n",
       "      <th>0</th>\n",
       "    </tr>\n",
       "  </thead>\n",
       "  <tbody>\n",
       "    <tr>\n",
       "      <th>0</th>\n",
       "      <td>24.0</td>\n",
       "    </tr>\n",
       "    <tr>\n",
       "      <th>1</th>\n",
       "      <td>21.6</td>\n",
       "    </tr>\n",
       "    <tr>\n",
       "      <th>2</th>\n",
       "      <td>34.7</td>\n",
       "    </tr>\n",
       "    <tr>\n",
       "      <th>3</th>\n",
       "      <td>33.4</td>\n",
       "    </tr>\n",
       "    <tr>\n",
       "      <th>4</th>\n",
       "      <td>36.2</td>\n",
       "    </tr>\n",
       "  </tbody>\n",
       "</table>\n",
       "</div>"
      ],
      "text/plain": [
       "      0\n",
       "0  24.0\n",
       "1  21.6\n",
       "2  34.7\n",
       "3  33.4\n",
       "4  36.2"
      ]
     },
     "metadata": {},
     "execution_count": 2
    }
   ],
   "metadata": {}
  },
  {
   "cell_type": "markdown",
   "source": [
    "# Train Data"
   ],
   "metadata": {}
  },
  {
   "cell_type": "code",
   "execution_count": 4,
   "source": [
    "#Train data\r\n",
    "x_train_temp=x[0:400,:]\r\n",
    "x_train=np.zeros((x_train_temp.shape[0],x_train_temp.shape[1]+1))\r\n",
    "x_train[:,0]=np.ones((x_train_temp.shape[0]))\r\n",
    "x_train[:,1:]=x_train_temp\r\n",
    "\"Type of X_train:\", type(x_train), \"Shape of X_train:\", x_train.shape\r\n",
    "y_train=y[0:400]"
   ],
   "outputs": [],
   "metadata": {}
  },
  {
   "cell_type": "markdown",
   "source": [
    "# Test Data"
   ],
   "metadata": {}
  },
  {
   "cell_type": "code",
   "execution_count": 5,
   "source": [
    "#Test Data\r\n",
    "x_test_temp=x[400:,:]\r\n",
    "x_test=np.zeros((x_test_temp.shape[0],x_test_temp.shape[1]+1))\r\n",
    "x_test[:,0]=np.ones((x_test_temp.shape[0]))\r\n",
    "x_test[:,1:]=x_test_temp\r\n",
    "\"Type of X_train:\", type(x_test), \"Shape of X_train:\", x_test.shape\r\n",
    "y_test=y[400:]"
   ],
   "outputs": [],
   "metadata": {}
  },
  {
   "cell_type": "markdown",
   "source": [
    "# Scaling"
   ],
   "metadata": {}
  },
  {
   "cell_type": "code",
   "execution_count": 9,
   "source": [
    "# Scaling the data\r\n",
    "scaler=StandardScaler()\r\n",
    "scaler.fit(x_train[:,1:])\r\n",
    "x_train[:,1:]=scaler.transform(x_train[:,1:])\r\n",
    "x_test[:,1:]=scaler.transform(x_test[:,1:])"
   ],
   "outputs": [],
   "metadata": {}
  },
  {
   "cell_type": "markdown",
   "source": [
    "# Intialization"
   ],
   "metadata": {}
  },
  {
   "cell_type": "code",
   "execution_count": 13,
   "source": [
    "mae_list = []; mse_list = []; theta_list = []; lamda_list = [10,100,500,1000,10000]"
   ],
   "outputs": [],
   "metadata": {}
  },
  {
   "cell_type": "markdown",
   "source": [
    "# Normal Equation method"
   ],
   "metadata": {}
  },
  {
   "cell_type": "code",
   "execution_count": 14,
   "source": [
    "for lamda in lamda_list:\r\n",
    "    matrix = np.zeros((x_train.shape[1],x_train.shape[1]))\r\n",
    "    for i in range(1,x_train.shape[1]):\r\n",
    "        matrix[i][i] = 1\r\n",
    "\r\n",
    "    theta=np.zeros(x_train.shape[1])\r\n",
    "    try:\r\n",
    "        theta = np.dot((inv(np.dot(x_train.T,x_train) + lamda * matrix)),(np.dot(x_train.T,y_train)))\r\n",
    "    except LinAlgError:\r\n",
    "        theta = np.dot((pinv(np.dot(x_train.T,x_train) + lamda * matrix)),(np.dot(x_train.T,y_train)))\r\n",
    "    df = pd.DataFrame(theta)\r\n",
    "\r\n",
    "    predictions = np.dot(theta,x_test.T)\r\n",
    "    mae = metrics.mean_absolute_error(y_true = y_test, y_pred = predictions)\r\n",
    "    mse = metrics.mean_squared_error(y_true = y_test, y_pred = predictions)\r\n",
    "    print(\"Lambda : \",lamda)\r\n",
    "    print(\"Mean Absolute Error : \", mae)\r\n",
    "    print(\"Mean Squared Error : \", mse,end = \"\\n\\n\")\r\n",
    "    mae_list.append(mae)\r\n",
    "    mse_list.append(mse)"
   ],
   "outputs": [
    {
     "output_type": "stream",
     "name": "stdout",
     "text": [
      "Lambda :  10\n",
      "Mean Absolute Error :  4.883844986488974\n",
      "Mean Squared Error :  34.30419378056596\n",
      "\n",
      "Lambda :  100\n",
      "Mean Absolute Error :  4.096129594076955\n",
      "Mean Squared Error :  24.816356919692886\n",
      "\n",
      "Lambda :  500\n",
      "Mean Absolute Error :  3.911127702361726\n",
      "Mean Squared Error :  22.710781842401175\n",
      "\n",
      "Lambda :  1000\n",
      "Mean Absolute Error :  4.338044083817769\n",
      "Mean Squared Error :  28.043478725199996\n",
      "\n",
      "Lambda :  10000\n",
      "Mean Absolute Error :  7.5565997545923045\n",
      "Mean Squared Error :  76.24464991304006\n",
      "\n"
     ]
    }
   ],
   "metadata": {}
  },
  {
   "cell_type": "markdown",
   "source": [
    "# MAE VS Lambda"
   ],
   "metadata": {}
  },
  {
   "cell_type": "code",
   "execution_count": 16,
   "source": [
    "plt.plot(lamda_list,mae_list)\n",
    "plt.xlabel(\"lambda\")\n",
    "plt.ylabel(\"MAE\")\n",
    "plt.show()"
   ],
   "outputs": [
    {
     "output_type": "display_data",
     "data": {
      "image/png": "[encoded data removed]",
      "text/plain": [
       "<Figure size 432x288 with 1 Axes>"
      ]
     },
     "metadata": {
      "needs_background": "light"
     }
    }
   ],
   "metadata": {}
  }
 ],
 "metadata": {
  "kernelspec": {
   "display_name": "Python 3",
   "language": "python",
   "name": "python3"
  },
  "language_info": {
   "codemirror_mode": {
    "name": "ipython",
    "version": 3
   },
   "file_extension": ".py",
   "mimetype": "text/x-python",
   "name": "python",
   "nbconvert_exporter": "python",
   "pygments_lexer": "ipython3",
   "version": "3.8.8"
  }
 },
 "nbformat": 4,
 "nbformat_minor": 5
}