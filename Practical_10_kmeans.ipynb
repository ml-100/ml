{
  "nbformat": 4,
  "nbformat_minor": 0,
  "metadata": {
    "colab": {
      "name": "19BCE260_prac10.ipynb",
      "provenance": [],
      "collapsed_sections": []
    },
    "kernelspec": {
      "name": "python3",
      "display_name": "Python 3"
    },
    "language_info": {
      "name": "python"
    }
  },
  "cells": [
    {
      "cell_type": "markdown",
      "metadata": {
        "id": "JDZwUUDCTMb4"
      },
      "source": [
        "# ML Practical 10 Kmeans Clustering\n",
        "\n",
        "# Name: Shah Smit Kiran\n",
        "\n",
        "# Roll No: 19BCE260"
      ]
    },
    {
      "cell_type": "markdown",
      "metadata": {
        "id": "8mjEtEfsL98D"
      },
      "source": [
        "# Importing libraries"
      ]
    },
    {
      "cell_type": "code",
      "metadata": {
        "id": "g31Gkl_ML4fQ"
      },
      "source": [
        "from sklearn import datasets,metrics\n",
        "from sklearn.cluster import KMeans"
      ],
      "execution_count": 1,
      "outputs": []
    },
    {
      "cell_type": "markdown",
      "metadata": {
        "id": "XxQ9DUjnMDPn"
      },
      "source": [
        "#loading the dataset"
      ]
    },
    {
      "cell_type": "code",
      "metadata": {
        "id": "FQ6ZplglMFhd"
      },
      "source": [
        "X,y = datasets.load_iris(return_X_y=True)\n"
      ],
      "execution_count": 2,
      "outputs": []
    },
    {
      "cell_type": "markdown",
      "metadata": {
        "id": "jXmtrTdqMIJ2"
      },
      "source": [
        "# Train and Test set"
      ]
    },
    {
      "cell_type": "code",
      "metadata": {
        "id": "YEFW7_zeMMPF"
      },
      "source": [
        "X_train = X[0:100,:]\n",
        "X_test = X[100:,:]\n"
      ],
      "execution_count": 3,
      "outputs": []
    },
    {
      "cell_type": "markdown",
      "metadata": {
        "id": "pL4ZoqoWMOyo"
      },
      "source": [
        "# Defining the model with 3 clusters, 3 centroids"
      ]
    },
    {
      "cell_type": "code",
      "metadata": {
        "id": "dGXqbFwMMRR-"
      },
      "source": [
        "model = KMeans(n_clusters=3).fit(X_train)"
      ],
      "execution_count": 4,
      "outputs": []
    },
    {
      "cell_type": "markdown",
      "metadata": {
        "id": "ndzrfYPyMT5l"
      },
      "source": [
        "# Prediction"
      ]
    },
    {
      "cell_type": "code",
      "metadata": {
        "colab": {
          "base_uri": "https://localhost:8080/"
        },
        "id": "-aupm3DsMXtu",
        "outputId": "ae2cdd5e-e3b1-4c96-f574-b7b4ea36345b"
      },
      "source": [
        "#print label for each point\n",
        "print(\"Labels:\\n\",model.labels_)\n",
        "\n",
        "#print prediction on test set\n",
        "prediction = model.predict(X_test)\n",
        "print(\"Prediction:\\n\",prediction)\n",
        "\n",
        "#printing coordinates of cluster centers\n",
        "print(\"Cluster Center:\\n\",model.cluster_centers_)"
      ],
      "execution_count": 5,
      "outputs": [
        {
          "output_type": "stream",
          "name": "stdout",
          "text": [
            "Labels:\n",
            " [1 1 1 1 1 1 1 1 1 1 1 1 1 1 1 1 1 1 1 1 1 1 1 1 1 1 1 1 1 1 1 1 1 1 1 1 1\n",
            " 1 1 1 1 1 1 1 1 1 1 1 1 1 0 0 0 2 0 0 0 2 0 2 2 0 2 0 2 0 0 2 0 2 0 2 0 0\n",
            " 0 0 0 0 0 2 2 2 2 0 2 0 0 0 2 2 2 0 2 2 2 2 2 0 2 2]\n",
            "Prediction:\n",
            " [0 0 0 0 0 0 2 0 0 0 0 0 0 0 0 0 0 0 0 0 0 0 0 0 0 0 0 0 0 0 0 0 0 0 0 0 0\n",
            " 0 0 0 0 0 0 0 0 0 0 0 0 0]\n",
            "Cluster Center:\n",
            " [[6.30769231 2.92307692 4.60769231 1.45769231]\n",
            " [5.006      3.428      1.462      0.246     ]\n",
            " [5.53333333 2.60416667 3.88333333 1.18333333]]\n"
          ]
        }
      ]
    },
    {
      "cell_type": "markdown",
      "metadata": {
        "id": "K7ma6jE7Maz1"
      },
      "source": [
        "#Defining the model with 4 clusters, 4 centroids"
      ]
    },
    {
      "cell_type": "code",
      "metadata": {
        "id": "Lz86Sm6bMd5Z"
      },
      "source": [
        "#train and test set\n",
        "X_train = X[range(0,150,2),:]\n",
        "X_test = X[range(1,150,2),:]\n",
        "\n",
        "#defining the model with 4 clusters, 4 centroids \n",
        "model = KMeans(n_clusters = 4).fit(X_train)\n"
      ],
      "execution_count": 6,
      "outputs": []
    },
    {
      "cell_type": "markdown",
      "metadata": {
        "id": "DdUIVj29Mg_s"
      },
      "source": [
        "# Prediction"
      ]
    },
    {
      "cell_type": "code",
      "metadata": {
        "colab": {
          "base_uri": "https://localhost:8080/"
        },
        "id": "bxpWyka7Mj7K",
        "outputId": "f9ea679e-a0d2-4078-b747-b0bc367abe3f"
      },
      "source": [
        "#print label for each point\n",
        "print(\"Labels:\\n\",model.labels_)\n",
        "\n",
        "#print prediction on test set\n",
        "prediction = model.predict(X_test)\n",
        "print(\"Prediction:\\n\",prediction)\n",
        "\n",
        "#printing coordinates of cluster centers\n",
        "print(\"Cluster Center:\\n\",model.cluster_centers_)"
      ],
      "execution_count": 7,
      "outputs": [
        {
          "output_type": "stream",
          "name": "stdout",
          "text": [
            "Labels:\n",
            " [1 1 1 1 1 1 1 1 1 1 1 1 1 1 1 1 1 1 1 1 1 1 1 1 1 2 2 2 2 2 3 3 3 3 2 2 2\n",
            " 2 2 2 3 3 3 2 3 3 3 3 3 3 0 0 0 3 0 2 0 2 0 0 0 0 0 2 0 0 0 2 0 2 0 2 0 2\n",
            " 0]\n",
            "Prediction:\n",
            " [1 1 1 1 1 1 1 1 1 1 1 1 1 1 1 1 1 1 1 1 1 1 1 1 1 2 3 3 3 3 3 2 2 3 3 3 2\n",
            " 2 2 3 3 2 2 2 3 2 3 3 2 3 2 0 0 0 0 2 2 0 0 2 2 2 0 2 0 0 2 0 0 0 0 0 0 2\n",
            " 2]\n",
            "Cluster Center:\n",
            " [[6.76470588 3.01764706 5.82941176 2.17647059]\n",
            " [5.024      3.48       1.456      0.228     ]\n",
            " [6.33157895 2.86842105 4.81578947 1.63157895]\n",
            " [5.50714286 2.64285714 4.01428571 1.26428571]]\n"
          ]
        }
      ]
    }
  ]
}